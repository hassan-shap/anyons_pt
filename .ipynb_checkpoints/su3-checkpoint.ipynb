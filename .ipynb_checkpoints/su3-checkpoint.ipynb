{
 "cells": [
  {
   "cell_type": "code",
   "execution_count": 2,
   "metadata": {},
   "outputs": [
    {
     "name": "stderr",
     "output_type": "stream",
     "text": [
      "/tmp/yes/lib/python3.7/site-packages/matplotlib/__init__.py:846: MatplotlibDeprecationWarning: \n",
      "The text.latex.unicode rcparam was deprecated in Matplotlib 2.2 and will be removed in 3.1.\n",
      "  \"2.2\", name=key, obj_type=\"rcparam\", addendum=addendum)\n"
     ]
    }
   ],
   "source": [
    "import numpy as np\n",
    "from math import pi,sqrt\n",
    "import matplotlib.pyplot as plt\n",
    "from matplotlib.ticker import (MultipleLocator, FormatStrFormatter,\n",
    "                               AutoMinorLocator)\n",
    "import matplotlib as mpl\n",
    "mpl.rcParams['text.usetex']=True\n",
    "mpl.rcParams['text.latex.unicode']=True"
   ]
  },
  {
   "cell_type": "code",
   "execution_count": 11,
   "metadata": {},
   "outputs": [],
   "source": [
    "# 0: id\n",
    "# 1: 8\n",
    "# 2: 8\n",
    "# 3: 10\n",
    "# 4: \\bar 10\n",
    "\n",
    "d={'1':1, '8':3, '10':1, '10b':1}\n",
    "\n",
    "R88_8=np.array([[-1j,0],[0,1j]])\n",
    "R88={'1':np.array([[-1]]), '8':R88_8, '10':np.array([[-1]]), '10b':np.array([[-1]])}\n",
    "F888={}\n",
    "F888['1']=np.array([[1,0],[0,1]])\n",
    "F888['8']=np.array([[-1/2,0,0,1/2],\\\n",
    "           [0,1/2,1/2,0],\\\n",
    "           [0,1/2,1/2,0],\\\n",
    "           [1/2,0,0,-1/2]])\n",
    "F888['10']=np.array([[-1/2,-sqrt(3)/2],[sqrt(3)/2,-1/2]])\n",
    "F888['10b']=np.array([[-1/2,sqrt(3)/2],[-sqrt(3)/2,-1/2]])\n",
    "\n",
    "# print(F888)\n",
    "# p=np.array([[.2,.1],[.1,.8]])\n",
    "p=np.zeros((2,2))\n",
    "\n",
    "Nrep=100\n",
    "LN=np.zeros(Nrep)\n",
    "for i_r in range(0,Nrep):\n",
    "    p[0,0]=np.random.randn(1)\n",
    "    p[1,1]=1-p[0,0]\n",
    "    \n",
    "    M={}\n",
    "    neg=0\n",
    "    for c in ['1','8','10','10b']:\n",
    "        if c=='8':\n",
    "            M[c]=np.array([[0,0],[0,0]],dtype=np.complex64)\n",
    "            nu_m=2\n",
    "        else:\n",
    "            M[c]= np.array([[0]],dtype=np.complex64)\n",
    "            nu_m=1\n",
    "        for nu in range(0,nu_m):\n",
    "            for nup in range(0,nu_m):\n",
    "                for s in range(0,2):\n",
    "                    for sp in range(0,nu_m):\n",
    "                        for mu in range(0,2):\n",
    "                            for mup in range(0,2):\n",
    "                                M[c][nu,nup]+= p[mu,mup]* R88_8[mu,s] * F888[c][s+2*nu,mup+2*sp]*R88[c][sp,nup]\n",
    "                    \n",
    "        if c=='8':\n",
    "            Mh=np.dot(np.matrix(M[c]).H,M[c])\n",
    "            neg += d[c]/d['8']*np.sum(np.sqrt(np.linalg.eigvalsh(Mh)))\n",
    "        else:\n",
    "            neg += d[c]/d['8']*np.abs(M[c])\n",
    "    LN[i_r]= np.log(neg)\n",
    "    \n",
    "# print(M)"
   ]
  },
  {
   "cell_type": "code",
   "execution_count": null,
   "metadata": {},
   "outputs": [],
   "source": [
    "# 0: id\n",
    "# 1: 8\n",
    "# 2: 8\n",
    "# 3: 10\n",
    "# 4: \\bar 10\n",
    "\n",
    "d={'1':1, '8':3, '10':1, '10b':1}\n",
    "\n",
    "R88_8=np.array([[-1j,0],[0,1j]])\n",
    "R88={'1':np.array([[-1]]), '8':R88_8, '10':np.array([[-1]]), '10b':np.array([[-1]])}\n",
    "F888={}\n",
    "F888['1']=np.array([[1,0],[0,1]])\n",
    "F888['8']=np.array([[-1/2,0,0,1/2],\\\n",
    "           [0,1/2,1/2,0],\\\n",
    "           [0,1/2,1/2,0],\\\n",
    "           [1/2,0,0,-1/2]])\n",
    "F888['10']=np.array([[-1/2,-sqrt(3)/2],[sqrt(3)/2,-1/2]])\n",
    "F888['10b']=np.array([[-1/2,sqrt(3)/2],[-sqrt(3)/2,-1/2]])\n",
    "\n",
    "# print(F888)\n",
    "# p=np.array([[.2,.1],[.1,.8]])\n",
    "p=np.zeros((2,2))\n",
    "\n",
    "Nrep=100\n",
    "LN=np.zeros(Nrep)\n",
    "for i_r in range(0,Nrep):\n",
    "    p[0,0]=np.random.randn(1)\n",
    "    p[1,1]=1-p[0,0]\n",
    "    \n",
    "    M={}\n",
    "    neg=0\n",
    "    for c in ['1','8','10','10b']:\n",
    "        if c=='8':\n",
    "            M[c]=np.array([[0,0],[0,0]],dtype=np.complex64)\n",
    "            nu_m=2\n",
    "        else:\n",
    "            M[c]= np.array([[0]],dtype=np.complex64)\n",
    "            nu_m=1\n",
    "        for nu in range(0,nu_m):\n",
    "            for nup in range(0,nu_m):\n",
    "                for s in range(0,2):\n",
    "                        for mu in range(0,2):\n",
    "                            for mup in range(0,2):\n",
    "                                M[c][nu,nup]+= p[mu,mup]* R88_8[mu,s] * F888[c][s+2*nu,mup+2*nup]\n",
    "                    \n",
    "        if c=='8':\n",
    "            Mh=np.dot(np.matrix(M[c]).H,M[c])\n",
    "            neg += d[c]/d['8']*np.sum(np.sqrt(np.linalg.eigvalsh(Mh)))\n",
    "        else:\n",
    "            neg += d[c]/d['8']*np.abs(M[c])\n",
    "    LN[i_r]= np.log(neg)\n",
    "    \n",
    "# print(M)"
   ]
  },
  {
   "cell_type": "code",
   "execution_count": 12,
   "metadata": {},
   "outputs": [
    {
     "data": {
      "image/png": "[encoded data removed]",
      "text/plain": [
       "<Figure size 432x288 with 1 Axes>"
      ]
     },
     "metadata": {
      "needs_background": "light"
     },
     "output_type": "display_data"
    }
   ],
   "source": [
    "plt.figure()\n",
    "plt.plot(LN,'o')\n",
    "plt.show()"
   ]
  },
  {
   "cell_type": "code",
   "execution_count": 31,
   "metadata": {},
   "outputs": [
    {
     "ename": "IndexError",
     "evalue": "list index out of range",
     "output_type": "error",
     "traceback": [
      "\u001b[0;31m---------------------------------------------------------------------------\u001b[0m",
      "\u001b[0;31mIndexError\u001b[0m                                Traceback (most recent call last)",
      "\u001b[0;32m<ipython-input-31-056b99c26547>\u001b[0m in \u001b[0;36m<module>\u001b[0;34m\u001b[0m\n\u001b[1;32m      2\u001b[0m \u001b[0mA\u001b[0m\u001b[0;34m[\u001b[0m\u001b[0;34m'1'\u001b[0m\u001b[0;34m]\u001b[0m\u001b[0;34m=\u001b[0m\u001b[0;34m[\u001b[0m\u001b[0;34m[\u001b[0m\u001b[0;36m1\u001b[0m\u001b[0;34m]\u001b[0m\u001b[0;34m]\u001b[0m\u001b[0;34m\u001b[0m\u001b[0;34m\u001b[0m\u001b[0m\n\u001b[1;32m      3\u001b[0m \u001b[0;31m# M['8']=[[4,5],[6,7]]\u001b[0m\u001b[0;34m\u001b[0m\u001b[0;34m\u001b[0m\u001b[0;34m\u001b[0m\u001b[0m\n\u001b[0;32m----> 4\u001b[0;31m \u001b[0mA\u001b[0m\u001b[0;34m[\u001b[0m\u001b[0;34m'8'\u001b[0m\u001b[0;34m]\u001b[0m\u001b[0;34m[\u001b[0m\u001b[0;36m0\u001b[0m\u001b[0;34m]\u001b[0m\u001b[0;34m[\u001b[0m\u001b[0;36m1\u001b[0m\u001b[0;34m]\u001b[0m\u001b[0;34m=\u001b[0m\u001b[0;36m0\u001b[0m\u001b[0;34m\u001b[0m\u001b[0;34m\u001b[0m\u001b[0m\n\u001b[0m\u001b[1;32m      5\u001b[0m \u001b[0;31m# print(A['8'])\u001b[0m\u001b[0;34m\u001b[0m\u001b[0;34m\u001b[0m\u001b[0;34m\u001b[0m\u001b[0m\n",
      "\u001b[0;31mIndexError\u001b[0m: list index out of range"
     ]
    }
   ],
   "source": [
    "A={'1':[],'8':[]}\n",
    "A['1']=[[1]]\n",
    "# M['8']=[[4,5],[6,7]]\n",
    "A['8'][0][1]=0\n",
    "# print(A['8'])\n"
   ]
  },
  {
   "cell_type": "code",
   "execution_count": null,
   "metadata": {},
   "outputs": [],
   "source": []
  }
 ],
 "metadata": {
  "kernelspec": {
   "display_name": "Python 3",
   "language": "python",
   "name": "python3"
  },
  "language_info": {
   "codemirror_mode": {
    "name": "ipython",
    "version": 3
   },
   "file_extension": ".py",
   "mimetype": "text/x-python",
   "name": "python",
   "nbconvert_exporter": "python",
   "pygments_lexer": "ipython3",
   "version": "3.7.3"
  }
 },
 "nbformat": 4,
 "nbformat_minor": 2
}
