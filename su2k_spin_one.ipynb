{
 "cells": [
  {
   "cell_type": "code",
   "execution_count": 85,
   "metadata": {},
   "outputs": [],
   "source": [
    "import numpy as np\n",
    "from math import pi,sqrt\n",
    "import matplotlib.pyplot as plt\n",
    "from matplotlib.ticker import (MultipleLocator, FormatStrFormatter,\n",
    "                               AutoMinorLocator)\n",
    "# import matplotlib as mpl\n",
    "# mpl.rcParams['text.usetex']=True\n",
    "# mpl.rcParams['text.latex.unicode']=True\n",
    "import sympy as sym"
   ]
  },
  {
   "cell_type": "code",
   "execution_count": 18,
   "metadata": {},
   "outputs": [],
   "source": [
    "def qdef(n,q):\n",
    "    return (q**(n/2)-q**(-n/2))/(q**(1/2)-q**(-1/2))\n",
    "    \n",
    "def nfacq(n,q):\n",
    "    y=1\n",
    "    for i in range(1,int(n)+1):\n",
    "        y*= qdef(i,q)\n",
    "    return y\n",
    "\n",
    "def delta(j1,j2,j3,q):\n",
    "    return (nfacq(-j1+j2+j3,q)*nfacq(j1-j2+j3,q)*nfacq(j1+j2-j3,q)/nfacq(j1+j2+j3+1,q))**0.5\n",
    "\n",
    "def sixj(j1,j2,j12,j3,j,j23,q):\n",
    "    fac=delta(j1,j2,j12,q)*delta(j12,j3,j,q)*delta(j2,j3,j23,q)*delta(j1,j23,j,q)\n",
    "    a1=j1+j2+j12\n",
    "    a2=j+j3+j12\n",
    "    a3=j1+j+j23\n",
    "    a4=j2+j3+j23\n",
    "    b1=j1+j2+j+j3\n",
    "    b2=j1+j3+j12+j23\n",
    "    b3=j2+j+j12+j23\n",
    "    \n",
    "    zmin=np.max([a1,a2,a3,a4])\n",
    "    zmax=np.min([b1,b2,b3])\n",
    "#     print(zmin,zmax)\n",
    "    \n",
    "    w=0\n",
    "    for z in np.arange(np.ceil(zmin),int(zmax)+1):\n",
    "        den= nfacq(z-j1-j2-j12,q)*nfacq(z-j12-j3-j,q)*nfacq(z-j2-j3-j23,q)\\\n",
    "            *nfacq(z-j1-j23-j,q)*nfacq(j1+j2+j3+j-z,q)*nfacq(j1+j12+j3+j23-z,q)\\\n",
    "            *nfacq(j2+j12+j+j23-z,q)\n",
    "        w += (-1)**z* nfacq(z+1,q)/den\n",
    "    return w*fac\n",
    "\n",
    "def Fsym(j1,j2,j3,j,j12,j23,q):\n",
    "    return (-1)**(j1+j2+j3+j)* (qdef(2*j12+1,q)*qdef(2*j23+1,q))**0.5 *sixj(j1,j2,j12,j3,j,j23,q)\n",
    "    \n",
    "def Rsym(j1,j2,j,q):\n",
    "    return (-1)**np.abs(j-j1-j2) * q**((j*(j+1)-j1*(j1+1)-j2*(j2+1))/2)\n",
    "\n",
    "def qdim(j,k):\n",
    "    return np.sin((2*j+1)*pi/(k+2))/np.sin(pi/(k+2))\n",
    "\n",
    "def Nabc(a,b,k):\n",
    "    # takes two anyons and gives fusion channels\n",
    "    cmin=np.abs(a-b)\n",
    "    cmax=np.min([a+b, k-a-b])\n",
    "    return np.arange(cmin,cmax+1)\n",
    "\n",
    "def fusion(a,b,c,d,e,f,k):\n",
    "    elist= Nabc(a,b,k)\n",
    "    if e in elist:\n",
    "        dlist= Nabc(e,c,k)\n",
    "        if d in dlist:\n",
    "            flist= Nabc(b,c,k)\n",
    "            if f in flist:\n",
    "                return True\n",
    "    return False\n"
   ]
  },
  {
   "cell_type": "code",
   "execution_count": 25,
   "metadata": {},
   "outputs": [],
   "source": [
    "from scipy.optimize import fsolve, fmin_cobyla\n",
    "\n",
    "k=4\n",
    "# 2d phase diagram\n",
    "def log_neg_spin_one(p0,p1):\n",
    "    q= np.exp(1j*2*pi/(k+2))\n",
    "    a=1\n",
    "    b=1\n",
    "    da=qdim(a,k)\n",
    "    db=qdim(b,k)\n",
    "\n",
    "    fmin=np.abs(a-b)\n",
    "    fmax=np.min([a+b, k-a-b])\n",
    "    flist=np.arange(fmin,fmax+1)\n",
    "#     print(flist)\n",
    "\n",
    "    clist=[0,1,2]\n",
    "    \n",
    "#     if 1-p0-p1>=0:\n",
    "    pf=[p0[i_1],p1,1-p0[i_1]-p1]\n",
    "    for c in clist:\n",
    "        sf=0\n",
    "        for i_f in range(len(flist)):\n",
    "            f= flist[i_f]\n",
    "            if fusion(a,f,a,c,b,b,k):\n",
    "                sf+= pf[i_f]*Rsym(f,a,b,q)*Fsym(a,f,a,c,b,b,q)\n",
    "        rT1 += qdim(c,k)/db* np.abs(sf)\n",
    "    return np.log(rT1)/np.log(da)\n",
    "#     else:\n",
    "#         return \n",
    "\n",
    "def constr1(p0,p1):\n",
    "    return 1-p0-p1\n",
    "\n",
    "#     rT1=np.zeros(len(p0)) \n",
    "#     for i_1 in range(len(p0)):\n",
    "#         if 1-p0[i_1]-p1>= 0:\n",
    "#             pf=[p0[i_1],p1,1-p0[i_1]-p1]\n",
    "#             for c in clist:\n",
    "#                 sf=0\n",
    "#                 for i_f in range(len(flist)):\n",
    "#                     f= flist[i_f]\n",
    "#                     if fusion(a,f,a,c,b,b,k):\n",
    "#                         sf+= pf[i_f]*Rsym(f,a,b,q)*Fsym(a,f,a,c,b,b,q)\n",
    "#                 rT1[i_1] += qdim(c,k)/db* np.abs(sf)\n",
    "#     return np.log(rT1)/np.log(da)"
   ]
  },
  {
   "cell_type": "code",
   "execution_count": 24,
   "metadata": {},
   "outputs": [
    {
     "name": "stdout",
     "output_type": "stream",
     "text": [
      "[0.1]\n"
     ]
    },
    {
     "name": "stderr",
     "output_type": "stream",
     "text": [
      "<ipython-input-21-3c08c728adcb>:29: RuntimeWarning: divide by zero encountered in log\n",
      "  return np.log(rT1)/np.log(da)\n"
     ]
    }
   ],
   "source": [
    "# def f(x,u,v):\n",
    "#     return x**2 - u+v\n",
    "\n",
    "# starting_guess = 1\n",
    "# print(fsolve(f, starting_guess, args=(19,10)))\n",
    "p_guess=0.1\n",
    "p1=0.6\n",
    "k=10\n",
    "print(fsolve(log_neg_spin_one,p_guess,args=(p1,k)))"
   ]
  },
  {
   "cell_type": "code",
   "execution_count": 138,
   "metadata": {},
   "outputs": [],
   "source": [
    "# plist=np.arange(0,0.1)\n",
    "\n",
    "k=20\n",
    "\n",
    "q= np.exp(1j*2*pi/(k+2))\n",
    "a=1\n",
    "b=1\n",
    "da=qdim(a,k)\n",
    "db=qdim(b,k)\n",
    "fmin=np.abs(a-b)\n",
    "fmax=np.min([a+b, k-a-b])\n",
    "flist=np.arange(fmin,fmax+1)\n",
    "clist=[0,1,2]\n",
    "\n",
    "plist=np.linspace(0,1,200)\n",
    "p0_f = np.zeros(len(plist))\n",
    "ln_f = np.zeros(len(plist))\n",
    "\n",
    "for i_1 in range(len(plist)):\n",
    "    p1=plist[i_1]\n",
    "    p_guess= (1-p1)/2\n",
    "    def log_neg_spin_one(p0):\n",
    "        pf=[p0,p1,1-p0-p1]\n",
    "        rT1=0\n",
    "        for c in clist:\n",
    "            sf=0\n",
    "            for i_f in range(len(flist)):\n",
    "                f= flist[i_f]\n",
    "                if fusion(a,f,a,c,b,b,k):\n",
    "                    sf+= pf[i_f]*Rsym(f,a,b,q)*Fsym(a,f,a,c,b,b,q)\n",
    "            rT1 += qdim(c,k)/db* np.abs(sf)\n",
    "        return np.log(rT1)/np.log(da)\n",
    "\n",
    "    def constr1(p0):\n",
    "        return 1-p0-p1\n",
    "\n",
    "    p0_f[i_1]= fmin_cobyla(log_neg_spin_one, p_guess, constr1, rhoend=1e-7)\n",
    "    ln_f[i_1]=log_neg_spin_one(p0_f[i_1])\n"
   ]
  },
  {
   "cell_type": "code",
   "execution_count": 139,
   "metadata": {},
   "outputs": [
    {
     "data": {
      "image/png": "[encoded data removed]",
      "text/plain": [
       "<Figure size 432x288 with 1 Axes>"
      ]
     },
     "metadata": {
      "needs_background": "light"
     },
     "output_type": "display_data"
    },
    {
     "data": {
      "image/png": "[encoded data removed]",
      "text/plain": [
       "<Figure size 432x288 with 1 Axes>"
      ]
     },
     "metadata": {
      "needs_background": "light"
     },
     "output_type": "display_data"
    }
   ],
   "source": [
    "plt.figure()\n",
    "plt.plot(plist,p0_f,'-')\n",
    "plt.plot(plist,(1-plist),'--')\n",
    "plt.plot(1/(da),1/(da*db),'ro')\n",
    "plt.show()\n",
    "\n",
    "plt.figure()\n",
    "plt.plot(plist,ln_f)\n",
    "plt.plot([1/(da),1/(da)],[np.min(ln_f),np.max(ln_f)],'r--')\n",
    "plt.show()"
   ]
  },
  {
   "cell_type": "code",
   "execution_count": 81,
   "metadata": {},
   "outputs": [
    {
     "name": "stdout",
     "output_type": "stream",
     "text": [
      "1.0 2.0000000000000004 1.0\n"
     ]
    }
   ],
   "source": [
    "k=4\n",
    "print(qdim(0,k),qdim(1,k),qdim(2,k))"
   ]
  },
  {
   "cell_type": "code",
   "execution_count": 90,
   "metadata": {},
   "outputs": [
    {
     "data": {
      "text/latex": [
       "$\\displaystyle 0.5 \\left|{- 1.0 x + 0.5 y - 0.866025403784439 i y + 1.0 z + 3.88578058618805 \\cdot 10^{-16} i z}\\right| + 1.0 \\left|{1.0 x - 1.48029736616687 \\cdot 10^{-16} y + 2.56395024851141 \\cdot 10^{-16} i y + 1.0 z + 3.56528680512412 \\cdot 10^{-16} i z}\\right| + 0.5 \\left|{1.0 x + 6.16297582203916 \\cdot 10^{-33} i x + 0.5 y - 0.866025403784438 i y - 1.0 z - 3.56528680512412 \\cdot 10^{-16} i z}\\right|$"
      ],
      "text/plain": [
       "0.5*Abs(-1.0*x + 0.5*y - 0.866025403784439*I*y + 1.0*z + 3.88578058618805e-16*I*z) + 1.0*Abs(1.0*x - 1.48029736616687e-16*y + 2.56395024851141e-16*I*y + 1.0*z + 3.56528680512412e-16*I*z) + 0.5*Abs(1.0*x + 6.16297582203916e-33*I*x + 0.5*y - 0.866025403784438*I*y - 1.0*z - 3.56528680512412e-16*I*z)"
      ]
     },
     "execution_count": 90,
     "metadata": {},
     "output_type": "execute_result"
    }
   ],
   "source": [
    "# spin-1\n",
    "k=4\n",
    "q= np.exp(1j*2*pi/(k+2))\n",
    "a=1\n",
    "b=1\n",
    "da=qdim(a,k)\n",
    "db=qdim(b,k)\n",
    "fmin=np.abs(a-b)\n",
    "fmax=np.min([a+b, k-a-b])\n",
    "flist=np.arange(fmin,fmax+1)\n",
    "clist=[0,1,2]\n",
    "\n",
    "x= sym.Symbol('x')\n",
    "y= sym.Symbol('y')\n",
    "z= sym.Symbol('z')\n",
    "\n",
    "pf=[x,y,z]\n",
    "rT1=0\n",
    "for c in clist:\n",
    "    sf=0\n",
    "    for i_f in range(len(flist)):\n",
    "        f= flist[i_f]\n",
    "        if fusion(a,f,a,c,b,b,k):\n",
    "            sf+= pf[i_f]*Rsym(f,a,b,q)*Fsym(a,f,a,c,b,b,q)\n",
    "    rT1 += qdim(c,k)/db* np.abs(sf)\n",
    "\n",
    "sym.simplify(rT1)"
   ]
  },
  {
   "cell_type": "code",
   "execution_count": 117,
   "metadata": {},
   "outputs": [
    {
     "name": "stdout",
     "output_type": "stream",
     "text": [
      "-0.25*x + 0.433012701892219*I*x + 0.5*y + 1.66533453693773e-16*I*y + 0.25*z - 0.433012701892219*I*z\n",
      "1.0*x + 3.33066907387547e-16*I*x - 1.48029736616687e-16*y - 2.56395024851141e-16*I*y + 1.0*z - 1.11022302462516e-16*I*z\n",
      "0.25*x - 0.433012701892219*I*x + 0.5*y - 2.77555756156289e-17*I*y - 0.25*z + 0.433012701892219*I*z\n"
     ]
    },
    {
     "data": {
      "text/latex": [
       "$\\displaystyle 1.0 x + 2.22044604925031 \\cdot 10^{-16} i x + 1.0 y - 2.22044604925031 \\cdot 10^{-16} i y + 1.0 z - 5.55111512312578 \\cdot 10^{-16} i z$"
      ],
      "text/plain": [
       "1.0*x + 2.22044604925031e-16*I*x + 1.0*y - 2.22044604925031e-16*I*y + 1.0*z - 5.55111512312578e-16*I*z"
      ]
     },
     "execution_count": 117,
     "metadata": {},
     "output_type": "execute_result"
    }
   ],
   "source": [
    "# spin-1\n",
    "k=4\n",
    "q= np.exp(1j*2*pi/(k+2))\n",
    "a=1\n",
    "b=1\n",
    "da=qdim(a,k)\n",
    "db=qdim(b,k)\n",
    "fmin=np.abs(a-b)\n",
    "fmax=np.min([a+b, k-a-b])\n",
    "flist=np.arange(fmin,fmax+1)\n",
    "clist=[0,1,2]\n",
    "\n",
    "x= sym.Symbol('x')\n",
    "y= sym.Symbol('y')\n",
    "z= sym.Symbol('z')\n",
    "\n",
    "theta_a= np.exp(-1j*2*pi/3)\n",
    "pf=[x,y,z]\n",
    "rT1=0\n",
    "for c in clist:\n",
    "    sf=0\n",
    "    for i_f in range(len(flist)):\n",
    "        f= flist[i_f]\n",
    "        if fusion(a,f,a,c,b,b,k):\n",
    "            sf+= pf[i_f]*theta_a*np.conj(Rsym(f,a,b,q))*Fsym(a,f,a,c,b,b,q)*Rsym(a,b,c,q)\n",
    "    print(sym.simplify(qdim(c,k)/db*sf)) #qdim(c,k)/db* \n",
    "    rT1 += qdim(c,k)/db*sf\n",
    "    \n",
    "sym.simplify(rT1)"
   ]
  },
  {
   "cell_type": "code",
   "execution_count": 118,
   "metadata": {},
   "outputs": [
    {
     "data": {
      "text/plain": [
       "(array([1.00000000e+00, 1.11022302e-16, 0.00000000e+00]),\n",
       " array([[ 0.70710678,  0.70710678,  0.        ],\n",
       "        [ 0.        ,  0.        ,  1.        ],\n",
       "        [-0.70710678,  0.70710678,  0.        ]]))"
      ]
     },
     "execution_count": 118,
     "metadata": {},
     "output_type": "execute_result"
    }
   ],
   "source": [
    "D=[[1/2,0,-1/2],[0,0,0],[-1/2,0,1/2]]\n",
    "# np.linalg.det(D)\n",
    "np.linalg.eig(D)"
   ]
  },
  {
   "cell_type": "code",
   "execution_count": 140,
   "metadata": {},
   "outputs": [
    {
     "name": "stdout",
     "output_type": "stream",
     "text": [
      "[[-2.50000000e-01+4.33012702e-01j  5.00000000e-01+8.32667268e-17j\n",
      "   2.50000000e-01-4.33012702e-01j]\n",
      " [ 1.00000000e+00+4.44089210e-16j -1.48029737e-16-2.56395025e-16j\n",
      "   1.00000000e+00+5.55111512e-17j]\n",
      " [ 2.50000000e-01-4.33012702e-01j  5.00000000e-01-1.11022302e-16j\n",
      "  -2.50000000e-01+4.33012702e-01j]]\n",
      "3 1\n",
      "(array([ 8.66025404e-01, -2.56395025e-16, -1.96261557e-16]), array([[-7.07106781e-01, -3.36366478e-15,  1.36374089e-01],\n",
      "       [-4.31775426e-16,  1.00000000e+00,  9.81225874e-01],\n",
      "       [ 7.07106781e-01, -3.13364913e-15,  1.36374089e-01]]))\n"
     ]
    }
   ],
   "source": [
    "# m matrix\n",
    "\n",
    "# spin-1\n",
    "k=4\n",
    "q= np.exp(1j*2*pi/(k+2))\n",
    "a=1\n",
    "b=1\n",
    "da=qdim(a,k)\n",
    "db=qdim(b,k)\n",
    "fmin=np.abs(a-b)\n",
    "fmax=np.min([a+b, k-a-b])\n",
    "flist=np.arange(fmin,fmax+1)\n",
    "clist=[0,1,2]\n",
    "\n",
    "x= sym.Symbol('x')\n",
    "y= sym.Symbol('y')\n",
    "z= sym.Symbol('z')\n",
    "\n",
    "theta_a= np.exp(-1j*4*pi/(k+2))\n",
    "pf=[x,y,z]\n",
    "m_c=np.zeros((3,3),dtype=np.complex128)\n",
    "for c in clist:\n",
    "    for i_f in range(len(flist)):\n",
    "        f= flist[i_f]\n",
    "        if fusion(a,f,a,c,b,b,k):\n",
    "            m_c[c,i_f]= qdim(c,k)/db*theta_a*np.conj(Rsym(f,a,b,q))*Fsym(a,f,a,c,b,b,q)*Rsym(a,b,c,q)\n",
    "    \n",
    "print(m_c)\n",
    "print(np.linalg.matrix_rank(m_c),np.linalg.matrix_rank(m_c.imag))\n",
    "print(np.linalg.eig(m_c.imag))"
   ]
  },
  {
   "cell_type": "code",
   "execution_count": 86,
   "metadata": {},
   "outputs": [
    {
     "data": {
      "text/latex": [
       "$\\displaystyle 0.707106781186548 \\left|{1.0 x + 1.0 y \\left(6.12323399573677 \\cdot 10^{-17} - 1.0 i\\right)}\\right| + 0.707106781186547 \\left|{1.0 x - 1.0 y \\left(6.12323399573677 \\cdot 10^{-17} - 1.0 i\\right)}\\right|$"
      ],
      "text/plain": [
       "0.707106781186548*Abs(1.0*x + 1.0*y*(6.12323399573677e-17 - 1.0*I)) + 0.707106781186547*Abs(1.0*x - 1.0*y*(6.12323399573677e-17 - 1.0*I))"
      ]
     },
     "execution_count": 86,
     "metadata": {},
     "output_type": "execute_result"
    }
   ],
   "source": [
    "# spin-1/2\n",
    "\n",
    "k=2\n",
    "q= np.exp(1j*2*pi/(k+2))\n",
    "a=1/2\n",
    "b=1/2\n",
    "da=qdim(a,k)\n",
    "db=qdim(b,k)\n",
    "fmin=np.abs(a-b)\n",
    "fmax=np.min([a+b, k-a-b])\n",
    "flist=np.arange(fmin,fmax+1)\n",
    "clist=[0,1]\n",
    "\n",
    "x= sym.Symbol('x')\n",
    "y= sym.Symbol('y')\n",
    "\n",
    "pf=[x,y]\n",
    "rT1=0\n",
    "for c in clist:\n",
    "    sf=0\n",
    "    for i_f in range(len(flist)):\n",
    "        f= flist[i_f]\n",
    "        if fusion(a,f,a,c,b,b,k):\n",
    "            sf+= pf[i_f]*Rsym(f,a,b,q)*Fsym(a,f,a,c,b,b,q)\n",
    "    rT1 += qdim(c,k)/db* np.abs(sf)\n",
    "\n",
    "sym.simplify(rT1)"
   ]
  },
  {
   "cell_type": "code",
   "execution_count": null,
   "metadata": {},
   "outputs": [],
   "source": []
  }
 ],
 "metadata": {
  "kernelspec": {
   "display_name": "Python 3",
   "language": "python",
   "name": "python3"
  },
  "language_info": {
   "codemirror_mode": {
    "name": "ipython",
    "version": 3
   },
   "file_extension": ".py",
   "mimetype": "text/x-python",
   "name": "python",
   "nbconvert_exporter": "python",
   "pygments_lexer": "ipython3",
   "version": "3.8.3"
  }
 },
 "nbformat": 4,
 "nbformat_minor": 4
}
