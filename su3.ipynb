{
 "cells": [
  {
   "cell_type": "code",
   "execution_count": 1,
   "metadata": {},
   "outputs": [
    {
     "name": "stderr",
     "output_type": "stream",
     "text": [
      "/tmp/yes/lib/python3.7/site-packages/matplotlib/__init__.py:846: MatplotlibDeprecationWarning: \n",
      "The text.latex.unicode rcparam was deprecated in Matplotlib 2.2 and will be removed in 3.1.\n",
      "  \"2.2\", name=key, obj_type=\"rcparam\", addendum=addendum)\n"
     ]
    }
   ],
   "source": [
    "import numpy as np\n",
    "from math import pi,sqrt\n",
    "import matplotlib.pyplot as plt\n",
    "from matplotlib.ticker import (MultipleLocator, FormatStrFormatter,\n",
    "                               AutoMinorLocator)\n",
    "import matplotlib as mpl\n",
    "mpl.rcParams['text.usetex']=True\n",
    "mpl.rcParams['text.latex.unicode']=True"
   ]
  },
  {
   "cell_type": "code",
   "execution_count": 3,
   "metadata": {},
   "outputs": [],
   "source": [
    "# 0: id\n",
    "# 1: 8\n",
    "# 2: 8\n",
    "# 3: 10\n",
    "# 4: \\bar 10\n",
    "\n",
    "d={'1':1, '8':3, '10':1, '10b':1}\n",
    "\n",
    "R88_8=np.array([[-1j,0],[0,1j]])\n",
    "R88={'1':np.array([[-1]]), '8':R88_8, '10':np.array([[-1]]), '10b':np.array([[-1]])}\n",
    "F888={}\n",
    "F888['1']=np.array([[1,0],[0,1]])\n",
    "F888['8']=np.array([[-1/2,0,0,1/2],\\\n",
    "           [0,1/2,1/2,0],\\\n",
    "           [0,1/2,1/2,0],\\\n",
    "           [1/2,0,0,-1/2]])\n",
    "F888['10']=np.array([[-1/2,-sqrt(3)/2],[sqrt(3)/2,-1/2]])\n",
    "F888['10b']=np.array([[-1/2,sqrt(3)/2],[-sqrt(3)/2,-1/2]])\n",
    "\n",
    "# np.random.seed(1)\n",
    "Nrep = 101\n",
    "p = np.zeros((2,2))\n",
    "plist = np.linspace(0,1,Nrep)\n",
    "\n",
    "LN1 = np.zeros(Nrep)\n",
    "LN_an = np.zeros(Nrep)\n",
    "\n",
    "for i_r in range(0,Nrep):\n",
    "#     p[0,0]=np.random.randn(1)\n",
    "#     p[1,1]=1-p[0,0]\n",
    "    p[0,0] = plist[i_r]\n",
    "    p[1,1] = 1 - plist[i_r]\n",
    "    \n",
    "    M={}\n",
    "    neg=0\n",
    "    for c in ['1','8','10','10b']:\n",
    "        if c=='8':\n",
    "            M[c]=np.array([[0,0],[0,0]],dtype=np.complex64)\n",
    "            nu_m=2\n",
    "        else:\n",
    "            M[c]= np.array([[0]],dtype=np.complex64)\n",
    "            nu_m=1\n",
    "        for nu in range(0,nu_m):\n",
    "            for nup in range(0,nu_m):\n",
    "                for s in range(0,2):\n",
    "                    for sp in range(0,nu_m):\n",
    "                        for mu in range(0,2):\n",
    "                            for mup in range(0,2):\n",
    "                                M[c][nu,nup]+= p[mu,mup]* R88_8[mu,s] * F888[c][s+2*nu,mup+2*sp]*R88[c][sp,nup]\n",
    "                    \n",
    "        if c=='8':\n",
    "            Mh=np.dot(np.matrix(M[c]).H,M[c])\n",
    "            neg += d[c]/d['8']*np.sum(np.sqrt(np.linalg.eigvalsh(Mh)))\n",
    "        else:\n",
    "            neg += d[c]/d['8']*np.abs(M[c])\n",
    "    LN1[i_r]= np.log(neg)\n",
    "#     M8 = [[1j*(p[0,0]+p[1,1])/2,1j*(-p[0,1]+p[1,0])/2],[1j*(-p[0,1]+p[1,0])/2,-1j*(p[0,0]+p[1,1])/2]]\n",
    "#     M1=(p[0,0]-p[1,1])\n",
    "#     M10=(p[0,0]-p[1,1])/2 + (p[0,1]+p[1,0])*sqrt(3)/2\n",
    "#     M10b=(p[0,0]-p[1,1])/2 - (p[0,1]+p[1,0])*sqrt(3)/2\n",
    "#     LN_an[i_r]= np.log( np.sum(np.sqrt(np.linalg.eigvalsh(np.dot(np.matrix(M8).H,M8)) ) ) \\\n",
    "#                 + (np.abs(M1)+ np.abs(M10) + np.abs(M10b) )/d['8'] )\n",
    "    qr= (p[1,0]+p[0,1])/2\n",
    "    qi= (p[1,0]-p[0,1])/2j\n",
    "    p0= p[0,0]\n",
    "    LN_an[i_r]= np.log( np.abs(2*p0-1)/3 + np.abs(qi+1/2)+np.abs(qi-1/2) \\\n",
    "                + ( np.abs(2*p0-1+sqrt(3)*qr) + np.abs(2*p0-1-sqrt(3)*qr) )/6 )\n",
    "# print(M)"
   ]
  },
  {
   "cell_type": "code",
   "execution_count": 4,
   "metadata": {},
   "outputs": [
    {
     "data": {
      "image/png": "[encoded data removed]",
      "text/plain": [
       "<Figure size 432x288 with 1 Axes>"
      ]
     },
     "metadata": {
      "needs_background": "light"
     },
     "output_type": "display_data"
    },
    {
     "name": "stdout",
     "output_type": "stream",
     "text": [
      "0.46497353003576836\n"
     ]
    }
   ],
   "source": [
    "plt.figure()\n",
    "plt.plot(plist,LN1/np.log(d['8']))\n",
    "plt.plot(plist,LN_an/np.log(d['8']),'o',markersize=3)\n",
    "plt.show()\n",
    "print(LN1[0]/np.log(d['8']))"
   ]
  },
  {
   "cell_type": "code",
   "execution_count": 2,
   "metadata": {},
   "outputs": [],
   "source": [
    "# 0: id\n",
    "# 1: 8\n",
    "# 2: 8\n",
    "# 3: 10\n",
    "# 4: \\bar 10\n",
    "def rand_density(n):\n",
    "    l=np.random.rand(n)\n",
    "    r1=np.diag(l)/np.sum(l)\n",
    "    X= (np.random.randn(n,n)+1j*np.random.randn(n,n) )/sqrt(2)\n",
    "    Q,R= np.linalg.qr(X)\n",
    "    R = np.diag(np.diag(R)/np.abs(np.diag(R)))\n",
    "    U = np.dot(Q,R)\n",
    "    return np.dot(U, np.dot(r1,np.matrix(U).H))\n",
    "\n",
    "\n",
    "d={'1':1, '8':3, '10':1, '10b':1}\n",
    "\n",
    "R88_8=np.array([[-1j,0],[0,1j]])\n",
    "# R88={'1':np.array([[-1]]), '8':R88_8, '10':np.array([[-1]]), '10b':np.array([[-1]])}\n",
    "F888={}\n",
    "F888['1']=np.array([[1,0],[0,1]])\n",
    "F888['8']=np.array([[-1/2,0,0,1/2],\\\n",
    "           [0,1/2,1/2,0],\\\n",
    "           [0,1/2,1/2,0],\\\n",
    "           [1/2,0,0,-1/2]])\n",
    "F888['10']=np.array([[-1/2,-sqrt(3)/2],[sqrt(3)/2,-1/2]])\n",
    "F888['10b']=np.array([[-1/2,sqrt(3)/2],[-sqrt(3)/2,-1/2]])\n",
    "\n",
    "# print(F888)\n",
    "# p=np.array([[.2,.1],[.1,.8]])\n",
    "p=np.zeros((2,2))\n",
    "\n",
    "# np.random.seed(1)\n",
    "Nrep=100\n",
    "LN2=np.zeros(Nrep)\n",
    "LN_an=np.zeros(Nrep)\n",
    "\n",
    "for i_r in range(0,Nrep):\n",
    "#     p[0,0]=np.random.randn(1)\n",
    "#     p[1,1]=1-p[0,0]\n",
    "# LN=1\n",
    "# while LN>1e-4: \n",
    "    p=rand_density(2)\n",
    "    p[0,1]=1j*np.imag(p[0,1])\n",
    "    p[1,0]=1j*np.imag(p[1,0])\n",
    "    p[1,1]=1/2\n",
    "    p[0,0]=1/2\n",
    "    \n",
    "    M={}\n",
    "    neg=0\n",
    "    for c in ['1','8','10','10b']:\n",
    "        if c=='8':\n",
    "            M[c]=np.array([[0,0],[0,0]],dtype=np.complex64)\n",
    "            M_an = [[1j*(p[0,0]+p[1,1])/2,1j*(-p[0,1]+p[1,0])/2],[1j*(-p[0,1]+p[1,0])/2,-1j*(p[0,0]+p[1,1])/2]]\n",
    "            nu_m=2\n",
    "        else:\n",
    "            M[c]= np.array([[0]],dtype=np.complex64)\n",
    "            if c=='1':\n",
    "                M_an= -1j*(p[0,0]-p[1,1])\n",
    "            elif c=='10':\n",
    "                M_an= 1j*(p[0,0]-p[1,1])/2 + 1j*(p[0,1]+p[1,0])*sqrt(3)/2\n",
    "            elif c=='10b':\n",
    "                M_an= 1j*(p[0,0]-p[1,1])/2 - 1j*(p[0,1]+p[1,0])*sqrt(3)/2\n",
    "\n",
    "            nu_m=1\n",
    "        for nu in range(0,nu_m):\n",
    "            for nup in range(0,nu_m):\n",
    "                for s in range(0,2):\n",
    "                        for mu in range(0,2):\n",
    "                            for mup in range(0,2):\n",
    "                                M[c][nu,nup]+= p[mu,mup]* R88_8[mu,s] * F888[c][s+2*nu,mup+2*nup]\n",
    "\n",
    "#         print(c)\n",
    "#         print(np.abs(M[c]-M_an))\n",
    "#         print(M[c])\n",
    "#         print('=============')\n",
    "\n",
    "        if c=='8':\n",
    "#             n_M= np.linalg.norm(M[c]-M_an)\n",
    "#             print(c)\n",
    "#             print(M[c])\n",
    "#             print(M_an)\n",
    "#             if n_M> 0.1 :\n",
    "#                 print(M[c]-M_an)\n",
    "#                 break\n",
    "            \n",
    "            Mh=np.dot(np.matrix(M[c]).H,M[c])\n",
    "            neg += d[c]/d['8']*np.sum(np.sqrt(np.linalg.eigvalsh(Mh)))\n",
    "        else:\n",
    "#             n_M= np.abs(M[c]-M_an)\n",
    "#             if n_M> 0.1 :\n",
    "#                 print(M[c]-M_an)\n",
    "#                 break\n",
    "            neg += d[c]/d['8']*np.abs(M[c])\n",
    "    LN2[i_r]= np.log(neg)\n",
    "\n",
    "    qr= (p[1,0]+p[0,1])/2\n",
    "    qi= (p[1,0]-p[0,1])/2j\n",
    "    p0= p[0,0]\n",
    "    LN_an[i_r]= np.log( np.abs(2*p0-1)/3 + (np.abs(qi+1/2)+np.abs(qi-1/2)) \\\n",
    "                + ( np.abs(2*p0-1+2*sqrt(3)*qr) + np.abs(2*p0-1-2*sqrt(3)*qr) )/6 )\n",
    "    \n",
    "#     LN= np.log(neg)\n",
    "#     if LN2[i_r]< 1e-6:\n",
    "#         print(p)\n",
    "#         break\n",
    "# print(LN,p)\n",
    "# print(M)"
   ]
  },
  {
   "cell_type": "code",
   "execution_count": 3,
   "metadata": {},
   "outputs": [
    {
     "data": {
      "image/png": "[encoded data removed]",
      "text/plain": [
       "<Figure size 432x288 with 1 Axes>"
      ]
     },
     "metadata": {
      "needs_background": "light"
     },
     "output_type": "display_data"
    }
   ],
   "source": [
    "# num_bins=40\n",
    "# n, bin_edges = np.histogram(LN2, bins=num_bins)\n",
    "# bins_center= (bin_edges[0:num_bins]+ bin_edges[1:])/2\n",
    "\n",
    "\n",
    "# plt.figure()\n",
    "# plt.plot(bins_center,n,'o')\n",
    "# plt.show()\n",
    "\n",
    "plt.figure()\n",
    "plt.plot(LN_an,'o')\n",
    "plt.plot(LN2,'x')\n",
    "plt.show()"
   ]
  },
  {
   "cell_type": "code",
   "execution_count": 27,
   "metadata": {},
   "outputs": [
    {
     "name": "stdout",
     "output_type": "stream",
     "text": [
      "[0.19210145 0.3774402  0.43045835]\n"
     ]
    }
   ],
   "source": [
    "rho=rand_density(3)\n",
    "print(np.linalg.eigvalsh(rho))"
   ]
  },
  {
   "cell_type": "code",
   "execution_count": 2,
   "metadata": {},
   "outputs": [
    {
     "name": "stdout",
     "output_type": "stream",
     "text": [
      "[[0.]]\n",
      "[[0.25+0.j 0.  +0.j]\n",
      " [0.  +0.j 0.25+0.j]]\n"
     ]
    }
   ],
   "source": [
    "# 0: id\n",
    "# 1: 8\n",
    "# 2: 8\n",
    "# 3: 10\n",
    "# 4: \\bar 10\n",
    "def rand_density(n):\n",
    "    l=np.random.rand(n)\n",
    "    r1=np.diag(l)/np.sum(l)\n",
    "    X= (np.random.randn(n,n)+1j*np.random.randn(n,n) )/sqrt(2)\n",
    "    Q,R= np.linalg.qr(X)\n",
    "    R = np.diag(np.diag(R)/np.abs(np.diag(R)))\n",
    "    U = np.dot(Q,R)\n",
    "    return np.dot(U, np.dot(r1,np.matrix(U).H))\n",
    "\n",
    "\n",
    "d={'1':1, '8':3, '10':1, '10b':1}\n",
    "\n",
    "R88_8=np.array([[-1j,0],[0,1j]])\n",
    "# R88={'1':np.array([[-1]]), '8':R88_8, '10':np.array([[-1]]), '10b':np.array([[-1]])}\n",
    "F888={}\n",
    "F888['1']=np.array([[1,0],[0,1]])\n",
    "F888['8']=np.array([[-1/2,0,0,1/2],\\\n",
    "           [0,1/2,1/2,0],\\\n",
    "           [0,1/2,1/2,0],\\\n",
    "           [1/2,0,0,-1/2]])\n",
    "F888['10']=np.array([[-1/2,-sqrt(3)/2],[sqrt(3)/2,-1/2]])\n",
    "F888['10b']=np.array([[-1/2,sqrt(3)/2],[-sqrt(3)/2,-1/2]])\n",
    "\n",
    "# print(F888)\n",
    "p=np.array([[0.5,0],[0,.5]])\n",
    "\n",
    "M={}\n",
    "neg=0\n",
    "for c in ['1','8','10','10b']:\n",
    "    if c=='8':\n",
    "        M[c]=np.array([[0,0],[0,0]],dtype=np.complex64)\n",
    "        nu_m=2\n",
    "    else:\n",
    "        M[c]= np.array([[0]],dtype=np.complex64)\n",
    "        nu_m=1\n",
    "    for nu in range(0,nu_m):\n",
    "        for nup in range(0,nu_m):\n",
    "            for s in range(0,2):\n",
    "                    for mu in range(0,2):\n",
    "                        for mup in range(0,2):\n",
    "                            M[c][nu,nup]+= p[mu,mup]* R88_8[mu,s] * F888[c][s+2*nu,mup+2*nup]\n",
    "\n",
    "    if c=='8':\n",
    "        Mh=np.dot(np.matrix(M[c]).H,M[c])\n",
    "        neg += d[c]/d['8']*np.sum(np.sqrt(np.linalg.eigvalsh(Mh)))\n",
    "    else:\n",
    "        neg += d[c]/d['8']*np.abs(M[c])\n",
    "LN= np.log(neg)\n",
    "print(LN)\n",
    "print(Mh)\n"
   ]
  },
  {
   "cell_type": "code",
   "execution_count": null,
   "metadata": {},
   "outputs": [],
   "source": []
  }
 ],
 "metadata": {
  "kernelspec": {
   "display_name": "Python 3",
   "language": "python",
   "name": "python3"
  },
  "language_info": {
   "codemirror_mode": {
    "name": "ipython",
    "version": 3
   },
   "file_extension": ".py",
   "mimetype": "text/x-python",
   "name": "python",
   "nbconvert_exporter": "python",
   "pygments_lexer": "ipython3",
   "version": "3.7.3"
  }
 },
 "nbformat": 4,
 "nbformat_minor": 2
}
