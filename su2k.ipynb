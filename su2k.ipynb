{
 "cells": [
  {
   "cell_type": "code",
   "execution_count": 2,
   "metadata": {},
   "outputs": [],
   "source": [
    "import numpy as np\n",
    "from math import pi\n",
    "import matplotlib.pyplot as plt"
   ]
  },
  {
   "cell_type": "code",
   "execution_count": 3,
   "metadata": {},
   "outputs": [],
   "source": [
    "\n",
    "def qdef(n,q):\n",
    "    return (q**(n/2)-q**(-n/2))/(q**(1/2)-q**(-1/2))\n",
    "    \n",
    "def nfacq(n,q):\n",
    "    y=1\n",
    "    for i in range(1,n+1):\n",
    "        y*= qdef(i,q)\n",
    "    return y\n",
    "\n",
    "def delta(j1,j2,j3,q):\n",
    "    return (nfacq(-j1+j2+j3,q)*nfacq(j1-j2+j3,q)*nfacq(j1+j2-j3,q)/nfacq(j1+j2+j3+1,q))**0.5\n",
    "\n",
    "def sixj(j1,j2,j12,j3,j,j23,q):\n",
    "    fac=delta(j1,j2,j12,q)*delta(j12,j3,j,q)*delta(j2,j3,j23,q)*delta(j1,j23,j,q)\n",
    "    a1=j1+j2+j12\n",
    "    a2=j+j3+j12\n",
    "    a3=j1+j+j23\n",
    "    a4=j2+j3+j23\n",
    "    b1=j1+j2+j+j3\n",
    "    b2=j1+j3+j12+j23\n",
    "    b3=j2+j+j12+j23\n",
    "    \n",
    "    zmin=np.max([a1,a2,a3,a4])\n",
    "    zmax=np.min([b1,b2,b3])\n",
    "    w=0\n",
    "    for z in range(zmin,zmax+1):\n",
    "        den= nfacq(z-j1-j2-j12,q)*nfacq(z-j12-j3-j,q)*nfacq(z-j2-j3-j23,q)\\\n",
    "            *nfacq(z-j1-j23-j,q)*nfacq(j1+j2+j3+j-z,q)*nfacq(j1+j12+j3+j23-z,q)\\\n",
    "            *nfacq(j2+j12+j+j23-z,q)\n",
    "        w += (-1)**z* nfacq(z+1,q)/den\n",
    "    return w*fac\n",
    "\n",
    "def Fsym(j1,j2,j3,j,j12,j23,q):\n",
    "    return (-1)**(j1+j2+j3+j)* (qdef(2*j12+1,q)*qdef(2*j23+1,q))**0.5 *sixj(j1,j2,j12,j3,j,j23,q)\n",
    "    \n",
    "def Rsym(j1,j2,j,q):\n",
    "    return (-1)**(j-j1-j2) * q**((j*(j+1)-j1*(j1+1)-j2*(j2+1))/2)\n",
    "\n",
    "def qdim(j,k):\n",
    "    return np.sin((2*j+1)*pi/(k+2))/np.sin(pi/(k+2))"
   ]
  },
  {
   "cell_type": "code",
   "execution_count": 6,
   "metadata": {},
   "outputs": [],
   "source": [
    "k=5\n",
    "q= np.exp(1j*2*pi/(k+2))\n",
    "d1=qdim(1,k)\n",
    "d2=qdim(2,k)\n",
    "\n",
    "p0= 1/d2\n",
    "\n",
    "R11_2=Rsym(1,1,2,q)\n",
    "R21_2=Rsym(2,1,2,q)\n",
    "R12_1=Rsym(1,2,1,q)\n",
    "R22_1=Rsym(2,2,1,q)\n",
    "\n",
    "F111_1_22=Fsym(1,1,1,1,2,2,q)\n",
    "F121_1_22=Fsym(1,2,1,1,2,2,q)\n",
    "F111_2_22=Fsym(1,1,1,2,2,2,q)\n",
    "F121_2_22=Fsym(1,2,1,2,2,2,q)\n",
    "\n",
    "F212_1_11=Fsym(2,1,2,1,1,1,q)\n",
    "F222_1_11=Fsym(2,2,2,1,1,1,q)\n",
    "F212_2_11=Fsym(2,1,2,2,1,1,q)\n",
    "F222_2_11=Fsym(2,2,2,2,1,1,q)\n",
    "\n",
    "plist=np.linspace(0,1,100)\n",
    "plist=[p0]\n",
    "rT1=np.zeros(len(plist))\n",
    "rT2=np.zeros(len(plist))\n",
    "\n",
    "for i_p in range(len(plist)):\n",
    "    p1=plist[i_p]\n",
    "    p2=1-p1\n",
    "    rT1[i_p]= d1/d2*np.abs( p1*R11_2*F111_1_22+p2*R21_2*F121_1_22)\\\n",
    "    + np.abs( p1*R11_2*F111_2_22+p2*R21_2*F121_2_22)\n",
    "    \n",
    "    rT2[i_p]= np.abs( p1*R12_1*F212_1_11+p2*R22_1*F222_1_11)\\\n",
    "    + d2/d1*np.abs( p1*R12_1*F212_2_11+p2*R22_1*F222_2_11)\n",
    "    "
   ]
  },
  {
   "cell_type": "code",
   "execution_count": 5,
   "metadata": {},
   "outputs": [
    {
     "data": {
      "image/png": "[encoded data removed]",
      "text/plain": [
       "<Figure size 432x288 with 1 Axes>"
      ]
     },
     "metadata": {
      "needs_background": "light"
     },
     "output_type": "display_data"
    }
   ],
   "source": [
    "plt.figure()\n",
    "plt.plot(plist,np.log(rT1),'-')\n",
    "plt.plot(plist,np.log(rT2),'x')\n",
    "# plt.plot([p0,p0],[0,0.5])\n",
    "plt.plot(p0,0,'o')\n",
    "plt.show()"
   ]
  },
  {
   "cell_type": "code",
   "execution_count": 7,
   "metadata": {},
   "outputs": [
    {
     "name": "stdout",
     "output_type": "stream",
     "text": [
      "[1.] [1.]\n"
     ]
    }
   ],
   "source": [
    "print(rT1,rT2)"
   ]
  },
  {
   "cell_type": "code",
   "execution_count": null,
   "metadata": {},
   "outputs": [],
   "source": []
  }
 ],
 "metadata": {
  "kernelspec": {
   "display_name": "Python 3",
   "language": "python",
   "name": "python3"
  },
  "language_info": {
   "codemirror_mode": {
    "name": "ipython",
    "version": 3
   },
   "file_extension": ".py",
   "mimetype": "text/x-python",
   "name": "python",
   "nbconvert_exporter": "python",
   "pygments_lexer": "ipython3",
   "version": "3.7.3"
  }
 },
 "nbformat": 4,
 "nbformat_minor": 2
}
